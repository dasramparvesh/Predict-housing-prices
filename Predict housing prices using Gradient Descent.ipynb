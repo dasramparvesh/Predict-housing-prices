{
 "cells": [
  {
   "cell_type": "markdown",
   "metadata": {},
   "source": [
    "# Problem Statement:"
   ]
  },
  {
   "cell_type": "markdown",
   "metadata": {},
   "source": [
    "Suppose you are selling your house and you want to know what a good market price would be. One way to do this is to first collect information on recent houses sold and make a model of housing prices. The file ex1data2.txt contains a training set of housing prices in Portland,Oregon. The first column is the size of the house (in square feet), the second column is the number of bedrooms and the third column is the price of the house.\n",
    "> \n",
    "Dataset is like below :\n",
    "\n",
    "|Size of the house (in square feet)|\tNumber of bedrooms|\tPrice of the house|\n",
    "|----------------------------------| -------------------- |-------------------|\n",
    "|2104                              | 3                    |\t399900            |\n",
    "|1600|\t3|\t329900|\n",
    "|2400|\t3|\t369000|\n",
    "\n",
    "\n",
    "Now we have to predict housing prices in Portland, Oregon.(including which is not mention in our example dataset)."
   ]
  },
  {
   "cell_type": "markdown",
   "metadata": {},
   "source": [
    "### Note:This problem statement and dataset is from coursera Andrew ng machine learning[Course](https://www.coursera.org/learn/machine-learning)"
   ]
  },
  {
   "cell_type": "markdown",
   "metadata": {},
   "source": [
    "### Dependencies"
   ]
  },
  {
   "cell_type": "markdown",
   "metadata": {},
   "source": [
    "- jupyter\n",
    "- numpy\n",
    "- matplotlib\n",
    "\n",
    "Install dependencies using [pip](https://pip.pypa.io/en/stable/)\n",
    "\n"
   ]
  },
  {
   "cell_type": "code",
   "execution_count": 1,
   "metadata": {},
   "outputs": [],
   "source": [
    "import numpy as np\n",
    "import matplotlib.pyplot as plt\n",
    "import pandas as pd\n",
    "import seaborn as sns\n",
    "import math\n",
    "np.set_printoptions(suppress=True) "
   ]
  },
  {
   "cell_type": "code",
   "execution_count": 2,
   "metadata": {},
   "outputs": [
    {
     "data": {
      "text/plain": [
       "array([[   2104.,       3.,  399900.],\n",
       "       [   1600.,       3.,  329900.],\n",
       "       [   2400.,       3.,  369000.],\n",
       "       [   1416.,       2.,  232000.],\n",
       "       [   3000.,       4.,  539900.]])"
      ]
     },
     "execution_count": 2,
     "metadata": {},
     "output_type": "execute_result"
    }
   ],
   "source": [
    "data = np.loadtxt(\"ex1data2.txt\",dtype=np.float64,delimiter=\",\")\n",
    "data[:5,::] #dataset loaded demonstration\n"
   ]
  },
  {
   "cell_type": "code",
   "execution_count": 3,
   "metadata": {},
   "outputs": [],
   "source": [
    "x=data[::,0:2]\n",
    "Y = data[::,-1:] #Price\n",
    "bed=x[::,-1:]  ####numbers of bedrooms\n",
    "siz=x[::,0:1]  ####size of house in sqft\n"
   ]
  },
  {
   "cell_type": "code",
   "execution_count": 4,
   "metadata": {},
   "outputs": [
    {
     "data": {
      "image/png": "[encoded data removed]",
      "text/plain": [
       "<matplotlib.figure.Figure at 0x7fa5c449ba50>"
      ]
     },
     "metadata": {},
     "output_type": "display_data"
    }
   ],
   "source": [
    "######price Vs size of house in sqft plotting\n",
    "plt.scatter(siz,Y)\n",
    "plt.xlabel(\"Size of house in sqft\")\n",
    "plt.ylabel(\"Price \")\n",
    "plt.show()"
   ]
  },
  {
   "cell_type": "code",
   "execution_count": 5,
   "metadata": {},
   "outputs": [
    {
     "data": {
      "image/png": "[encoded data removed]",
      "text/plain": [
       "<matplotlib.figure.Figure at 0x7fa5c3ce4c10>"
      ]
     },
     "metadata": {},
     "output_type": "display_data"
    }
   ],
   "source": [
    "######price Vs number of bedrooms in plotting\n",
    "plt.scatter(bed,Y)\n",
    "plt.xlabel(\"numbers  in bedrooms\")\n",
    "plt.ylabel(\"Price \")\n",
    "plt.show()\n"
   ]
  },
  {
   "cell_type": "code",
   "execution_count": 6,
   "metadata": {},
   "outputs": [
    {
     "name": "stdout",
     "output_type": "stream",
     "text": [
      "X_bias = \n",
      "[[    1.  2104.     3.]\n",
      " [    1.  1600.     3.]\n",
      " [    1.  2400.     3.]\n",
      " [    1.  1416.     2.]\n",
      " [    1.  3000.     4.]]\n",
      "Y = \n",
      "[[ 399900.]\n",
      " [ 329900.]\n",
      " [ 369000.]\n",
      " [ 232000.]\n",
      " [ 539900.]]\n"
     ]
    }
   ],
   "source": [
    "# introduce weights of hypothesis (randomly initialize)\n",
    "Theta = np.random.rand(1,3)\n",
    "# m is total example set , n is number of features\n",
    "m,n = x.shape\n",
    "# add bias to input matrix by simple make X0 = 1 for all\n",
    "X_bias = np.ones((m,n+1))\n",
    "X_bias[::,1:] =x\n",
    "# output first 5 X_bias examples\n",
    "print \"X_bias = \\n\",X_bias[0:5,:]\n",
    "print \"Y = \\n\",Y[0:5,::]\n"
   ]
  },
  {
   "cell_type": "code",
   "execution_count": 7,
   "metadata": {},
   "outputs": [
    {
     "data": {
      "text/plain": [
       "(47, 3)"
      ]
     },
     "execution_count": 7,
     "metadata": {},
     "output_type": "execute_result"
    }
   ],
   "source": [
    "X_bias.shape"
   ]
  },
  {
   "cell_type": "code",
   "execution_count": 8,
   "metadata": {},
   "outputs": [
    {
     "data": {
      "text/plain": [
       "(47, 1)"
      ]
     },
     "execution_count": 8,
     "metadata": {},
     "output_type": "execute_result"
    }
   ],
   "source": [
    "Y.shape"
   ]
  },
  {
   "cell_type": "code",
   "execution_count": 9,
   "metadata": {},
   "outputs": [
    {
     "data": {
      "text/plain": [
       "array([[ 1.        ,  0.13141542, -0.22609337],\n",
       "       [ 1.        , -0.5096407 , -0.22609337],\n",
       "       [ 1.        ,  0.5079087 , -0.22609337],\n",
       "       [ 1.        , -0.74367706, -1.5543919 ],\n",
       "       [ 1.        ,  1.27107075,  1.10220517]])"
      ]
     },
     "execution_count": 9,
     "metadata": {},
     "output_type": "execute_result"
    }
   ],
   "source": [
    "#feature Scaling\n",
    "# it also protect program from overflow error\n",
    "mean_size = np.mean(X_bias[::,1:2])    ####mean of the size of the rooms in sqft\n",
    "mean_bedroom = np.mean(X_bias[::,2:])     #####mean of the bedrooms\n",
    "size_std = np.std(X_bias[::,1:2])        ######standard deviation  of the size of the rooms\n",
    "bedroom_std = np.std(X_bias[::,2:])      ######standard deviation of the bedrooms\n",
    "X_bias[::,1:2] = (X_bias[::,1:2] - mean_size)/ (size_std)   #####  range of size: -1 < size < +1\n",
    "X_bias[::,2:] = (X_bias[::,2:] - mean_bedroom)/ (bedroom_std)   ##### range of bedroom: -1 < bedroom < +1\n",
    "X_bias[0:5,::]      ####displaying some of the values"
   ]
  },
  {
   "cell_type": "code",
   "execution_count": 10,
   "metadata": {},
   "outputs": [],
   "source": [
    "#define function to find cost\n",
    "def cost(X_bias,Y,Theta):\n",
    "    np.seterr(over='raise')    ###handling with floating vaues\n",
    "    m,n = x.shape\n",
    "    hypothesis = X_bias.dot(Theta.transpose())   \n",
    "    return (1/(2.0*m))*((np.square(hypothesis-Y)).sum(axis=0))\n"
   ]
  },
  {
   "cell_type": "code",
   "execution_count": 11,
   "metadata": {},
   "outputs": [],
   "source": [
    "#function gradient descent algorithm from minimizing theta\n",
    "def gradientDescent(X_bias,Y,Theta,iterations,alpha):\n",
    "    count = 1\n",
    "    cost_log = np.array([])\n",
    "    while(count <= iterations):\n",
    "        hypothesis = X_bias.dot(Theta.transpose())\n",
    "        temp0 = Theta[0,0] - alpha*(1.0/m)*((hypothesis-Y)*(X_bias[::,0:1])).sum(axis=0)\n",
    "        temp1 = Theta[0,1] - alpha*(1.0/m)*((hypothesis-Y)*(X_bias[::,1:2])).sum(axis=0)\n",
    "        temp2 = Theta[0,1] - alpha*(1.0/m)*((hypothesis-Y)*(X_bias[::,-1:])).sum(axis=0)\n",
    "        Theta[0,0] = temp0\n",
    "        Theta[0,1] = temp1\n",
    "        Theta[0,2] = temp2\n",
    "        cost_log = np.append(cost_log,cost(X_bias,Y,Theta))\n",
    "        count = count + 1\n",
    "    plt.plot(np.linspace(1,iterations,iterations,endpoint=True),cost_log)\n",
    "    plt.title(\"Iteration vs Cost graph \")\n",
    "    plt.xlabel(\"Number of iteration\")\n",
    "    plt.ylabel(\"Cost of Theta\")\n",
    "    plt.show()\n",
    "    return Theta"
   ]
  },
  {
   "cell_type": "code",
   "execution_count": 12,
   "metadata": {},
   "outputs": [
    {
     "data": {
      "image/png": "[encoded data removed]",
      "text/plain": [
       "<matplotlib.figure.Figure at 0x7fa5c3bbfd90>"
      ]
     },
     "metadata": {},
     "output_type": "display_data"
    },
    {
     "name": "stdout",
     "output_type": "stream",
     "text": [
      "[[ 340412.65957447   72655.84621595   59125.40416724]]\n"
     ]
    }
   ],
   "source": [
    "alpha = 0.3\n",
    "iterations = 100\n",
    "Theta = gradientDescent(X_bias,Y,Theta,iterations,alpha)\n",
    "print Theta"
   ]
  },
  {
   "cell_type": "code",
   "execution_count": 13,
   "metadata": {},
   "outputs": [
    {
     "name": "stdout",
     "output_type": "stream",
     "text": [
      "Cost of house with 1650 sq ft and 3 bedroom is  [ 294637.10371537]\n"
     ]
    }
   ],
   "source": [
    "# predict the price of a house with 1650 square feet and 3 bedrooms\n",
    "# add bias unit 1.0\n",
    "X_predict = np.array([1.0,1650.0,3]) \n",
    "#feature scaling the data first\n",
    "X_predict[1] = (X_predict[1] - mean_size)/ (size_std) \n",
    "X_predict[2] = (X_predict[2]- mean_bedroom)/ (bedroom_std)\n",
    "hypothesis = X_predict.dot(Theta.transpose())\n",
    "print \"Cost of house with 1650 sq ft and 3 bedroom is \",hypothesis"
   ]
  },
  {
   "cell_type": "code",
   "execution_count": null,
   "metadata": {},
   "outputs": [],
   "source": []
  },
  {
   "cell_type": "code",
   "execution_count": null,
   "metadata": {},
   "outputs": [],
   "source": []
  },
  {
   "cell_type": "code",
   "execution_count": null,
   "metadata": {},
   "outputs": [],
   "source": []
  },
  {
   "cell_type": "code",
   "execution_count": null,
   "metadata": {},
   "outputs": [],
   "source": []
  },
  {
   "cell_type": "code",
   "execution_count": null,
   "metadata": {},
   "outputs": [],
   "source": []
  },
  {
   "cell_type": "code",
   "execution_count": null,
   "metadata": {},
   "outputs": [],
   "source": []
  }
 ],
 "metadata": {
  "kernelspec": {
   "display_name": "Python 2",
   "language": "python",
   "name": "python2"
  },
  "language_info": {
   "codemirror_mode": {
    "name": "ipython",
    "version": 2
   },
   "file_extension": ".py",
   "mimetype": "text/x-python",
   "name": "python",
   "nbconvert_exporter": "python",
   "pygments_lexer": "ipython2",
   "version": "2.7.12"
  }
 },
 "nbformat": 4,
 "nbformat_minor": 2
}
